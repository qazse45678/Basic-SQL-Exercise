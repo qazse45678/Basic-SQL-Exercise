{
 "cells": [
  {
   "cell_type": "code",
   "execution_count": null,
   "id": "b83215d2",
   "metadata": {},
   "outputs": [],
   "source": [
    "pip install mysql-connector-python"
   ]
  },
  {
   "cell_type": "code",
   "execution_count": 22,
   "id": "6da7c4e1",
   "metadata": {},
   "outputs": [
    {
     "name": "stdout",
     "output_type": "stream",
     "text": [
      "('information_schema',)\n",
      "('mysql',)\n",
      "('performance_schema',)\n",
      "('Python_test',)\n",
      "('sql_exercise',)\n",
      "('sys',)\n"
     ]
    }
   ],
   "source": [
    "\n",
    "import mysql.connector\n",
    "\n",
    "connection = mysql.connector.connect(\n",
    "    host = 'localhost',\n",
    "    port = '3306',\n",
    "    user = 'root',\n",
    "    password = '22101411'\n",
    ")\n",
    "\n",
    "#要開始使用連線\n",
    "cursor = connection.cursor()\n",
    "cursor.execute('CREATE DATABASE `Python_test`;') #直接輸入 mySQL 指令\n",
    "\n",
    "cursor.execute('SHOW DATABASES;')\n",
    "records = cursor.fetchall()\n",
    "for i in records:\n",
    "    print(i)\n",
    "    \n",
    "cursor.close()\n",
    "connection.close()\n"
   ]
  }
 ],
 "metadata": {
  "kernelspec": {
   "display_name": "Python 3",
   "language": "python",
   "name": "python3"
  },
  "language_info": {
   "codemirror_mode": {
    "name": "ipython",
    "version": 3
   },
   "file_extension": ".py",
   "mimetype": "text/x-python",
   "name": "python",
   "nbconvert_exporter": "python",
   "pygments_lexer": "ipython3",
   "version": "3.8.8"
  }
 },
 "nbformat": 4,
 "nbformat_minor": 5
}
